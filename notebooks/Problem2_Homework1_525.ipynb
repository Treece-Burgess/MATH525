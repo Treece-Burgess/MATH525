{
 "cells": [
  {
   "cell_type": "code",
   "execution_count": 4,
   "id": "e357d547",
   "metadata": {},
   "outputs": [],
   "source": [
    "import scipy.io\n",
    "import pandas as pd\n",
    "import mat4py\n",
    "import matplotlib.pyplot as plt\n",
    "import numpy as np\n",
    "import seaborn as sns\n",
    "#from sympy import *\n",
    "import math\n",
    "import sympy as sy\n",
    "from sympy import Sum\n",
    "import random"
   ]
  },
  {
   "cell_type": "markdown",
   "id": "80be4ba2",
   "metadata": {},
   "source": [
    "# Loading in Data and Converting to Pandas DataFrame"
   ]
  },
  {
   "cell_type": "code",
   "execution_count": 5,
   "id": "ad7e5e65",
   "metadata": {},
   "outputs": [],
   "source": [
    "mat_array = mat4py.loadmat('/Users/trebu/Downloads/vis_data.mat')"
   ]
  },
  {
   "cell_type": "code",
   "execution_count": 6,
   "id": "4d2de6d9",
   "metadata": {},
   "outputs": [],
   "source": [
    "mat_dataframe = pd.DataFrame(mat_array)"
   ]
  },
  {
   "cell_type": "code",
   "execution_count": 7,
   "id": "60351362",
   "metadata": {},
   "outputs": [
    {
     "data": {
      "text/html": [
       "<div>\n",
       "<style scoped>\n",
       "    .dataframe tbody tr th:only-of-type {\n",
       "        vertical-align: middle;\n",
       "    }\n",
       "\n",
       "    .dataframe tbody tr th {\n",
       "        vertical-align: top;\n",
       "    }\n",
       "\n",
       "    .dataframe thead th {\n",
       "        text-align: right;\n",
       "    }\n",
       "</style>\n",
       "<table border=\"1\" class=\"dataframe\">\n",
       "  <thead>\n",
       "    <tr style=\"text-align: right;\">\n",
       "      <th></th>\n",
       "      <th>W</th>\n",
       "    </tr>\n",
       "  </thead>\n",
       "  <tbody>\n",
       "    <tr>\n",
       "      <th>0</th>\n",
       "      <td>[0.063072899261157, 0.09561849433129076, 0.126...</td>\n",
       "    </tr>\n",
       "    <tr>\n",
       "      <th>1</th>\n",
       "      <td>[0.5418410089232286, -0.05661396345396874, 0.0...</td>\n",
       "    </tr>\n",
       "    <tr>\n",
       "      <th>2</th>\n",
       "      <td>[0.9577197116363646, 1.2987560774209057, 1.342...</td>\n",
       "    </tr>\n",
       "    <tr>\n",
       "      <th>3</th>\n",
       "      <td>[-0.29945018584613553, 0.4505579792830716, 0.8...</td>\n",
       "    </tr>\n",
       "    <tr>\n",
       "      <th>4</th>\n",
       "      <td>[-0.046393278991246956, 0.019225775228446984, ...</td>\n",
       "    </tr>\n",
       "    <tr>\n",
       "      <th>...</th>\n",
       "      <td>...</td>\n",
       "    </tr>\n",
       "    <tr>\n",
       "      <th>533</th>\n",
       "      <td>[0.6657944213665705, 0.6711047226810104, 0.516...</td>\n",
       "    </tr>\n",
       "    <tr>\n",
       "      <th>534</th>\n",
       "      <td>[0.617734153974393, 0.4444045865757713, 0.4208...</td>\n",
       "    </tr>\n",
       "    <tr>\n",
       "      <th>535</th>\n",
       "      <td>[-0.2904368973431904, 0.5975676827371156, 0.97...</td>\n",
       "    </tr>\n",
       "    <tr>\n",
       "      <th>536</th>\n",
       "      <td>[-0.05203732989309018, 0.28845052434953444, 0....</td>\n",
       "    </tr>\n",
       "    <tr>\n",
       "      <th>537</th>\n",
       "      <td>[-0.25956348805605, 0.3351796699607703, 0.8353...</td>\n",
       "    </tr>\n",
       "  </tbody>\n",
       "</table>\n",
       "<p>538 rows × 1 columns</p>\n",
       "</div>"
      ],
      "text/plain": [
       "                                                     W\n",
       "0    [0.063072899261157, 0.09561849433129076, 0.126...\n",
       "1    [0.5418410089232286, -0.05661396345396874, 0.0...\n",
       "2    [0.9577197116363646, 1.2987560774209057, 1.342...\n",
       "3    [-0.29945018584613553, 0.4505579792830716, 0.8...\n",
       "4    [-0.046393278991246956, 0.019225775228446984, ...\n",
       "..                                                 ...\n",
       "533  [0.6657944213665705, 0.6711047226810104, 0.516...\n",
       "534  [0.617734153974393, 0.4444045865757713, 0.4208...\n",
       "535  [-0.2904368973431904, 0.5975676827371156, 0.97...\n",
       "536  [-0.05203732989309018, 0.28845052434953444, 0....\n",
       "537  [-0.25956348805605, 0.3351796699607703, 0.8353...\n",
       "\n",
       "[538 rows x 1 columns]"
      ]
     },
     "execution_count": 7,
     "metadata": {},
     "output_type": "execute_result"
    }
   ],
   "source": [
    "mat_dataframe"
   ]
  },
  {
   "cell_type": "code",
   "execution_count": 8,
   "id": "24a156e0",
   "metadata": {},
   "outputs": [],
   "source": [
    "w1 = []\n",
    "w2 = []\n",
    "w3 = []\n",
    "for i in range(0,len(mat_dataframe)):\n",
    "    list_values = mat_dataframe[\"W\"][i]\n",
    "    w1.append(list_values[0])\n",
    "    w2.append(list_values[1])\n",
    "    w3.append(list_values[2])\n",
    "new_mat_dataframe = pd.DataFrame()\n",
    "new_mat_dataframe[\"w1\"] = w1\n",
    "new_mat_dataframe[\"w2\"] = w2\n",
    "new_mat_dataframe[\"w3\"] = w3"
   ]
  },
  {
   "cell_type": "code",
   "execution_count": 9,
   "id": "ac9580e8",
   "metadata": {},
   "outputs": [
    {
     "data": {
      "text/html": [
       "<div>\n",
       "<style scoped>\n",
       "    .dataframe tbody tr th:only-of-type {\n",
       "        vertical-align: middle;\n",
       "    }\n",
       "\n",
       "    .dataframe tbody tr th {\n",
       "        vertical-align: top;\n",
       "    }\n",
       "\n",
       "    .dataframe thead th {\n",
       "        text-align: right;\n",
       "    }\n",
       "</style>\n",
       "<table border=\"1\" class=\"dataframe\">\n",
       "  <thead>\n",
       "    <tr style=\"text-align: right;\">\n",
       "      <th></th>\n",
       "      <th>w1</th>\n",
       "      <th>w2</th>\n",
       "      <th>w3</th>\n",
       "    </tr>\n",
       "  </thead>\n",
       "  <tbody>\n",
       "    <tr>\n",
       "      <th>0</th>\n",
       "      <td>0.063073</td>\n",
       "      <td>0.095618</td>\n",
       "      <td>0.126411</td>\n",
       "    </tr>\n",
       "    <tr>\n",
       "      <th>1</th>\n",
       "      <td>0.541841</td>\n",
       "      <td>-0.056614</td>\n",
       "      <td>0.067160</td>\n",
       "    </tr>\n",
       "    <tr>\n",
       "      <th>2</th>\n",
       "      <td>0.957720</td>\n",
       "      <td>1.298756</td>\n",
       "      <td>1.342079</td>\n",
       "    </tr>\n",
       "    <tr>\n",
       "      <th>3</th>\n",
       "      <td>-0.299450</td>\n",
       "      <td>0.450558</td>\n",
       "      <td>0.808990</td>\n",
       "    </tr>\n",
       "    <tr>\n",
       "      <th>4</th>\n",
       "      <td>-0.046393</td>\n",
       "      <td>0.019226</td>\n",
       "      <td>0.869677</td>\n",
       "    </tr>\n",
       "    <tr>\n",
       "      <th>...</th>\n",
       "      <td>...</td>\n",
       "      <td>...</td>\n",
       "      <td>...</td>\n",
       "    </tr>\n",
       "    <tr>\n",
       "      <th>533</th>\n",
       "      <td>0.665794</td>\n",
       "      <td>0.671105</td>\n",
       "      <td>0.516802</td>\n",
       "    </tr>\n",
       "    <tr>\n",
       "      <th>534</th>\n",
       "      <td>0.617734</td>\n",
       "      <td>0.444405</td>\n",
       "      <td>0.420828</td>\n",
       "    </tr>\n",
       "    <tr>\n",
       "      <th>535</th>\n",
       "      <td>-0.290437</td>\n",
       "      <td>0.597568</td>\n",
       "      <td>0.970739</td>\n",
       "    </tr>\n",
       "    <tr>\n",
       "      <th>536</th>\n",
       "      <td>-0.052037</td>\n",
       "      <td>0.288451</td>\n",
       "      <td>0.041013</td>\n",
       "    </tr>\n",
       "    <tr>\n",
       "      <th>537</th>\n",
       "      <td>-0.259563</td>\n",
       "      <td>0.335180</td>\n",
       "      <td>0.835326</td>\n",
       "    </tr>\n",
       "  </tbody>\n",
       "</table>\n",
       "<p>538 rows × 3 columns</p>\n",
       "</div>"
      ],
      "text/plain": [
       "           w1        w2        w3\n",
       "0    0.063073  0.095618  0.126411\n",
       "1    0.541841 -0.056614  0.067160\n",
       "2    0.957720  1.298756  1.342079\n",
       "3   -0.299450  0.450558  0.808990\n",
       "4   -0.046393  0.019226  0.869677\n",
       "..        ...       ...       ...\n",
       "533  0.665794  0.671105  0.516802\n",
       "534  0.617734  0.444405  0.420828\n",
       "535 -0.290437  0.597568  0.970739\n",
       "536 -0.052037  0.288451  0.041013\n",
       "537 -0.259563  0.335180  0.835326\n",
       "\n",
       "[538 rows x 3 columns]"
      ]
     },
     "execution_count": 9,
     "metadata": {},
     "output_type": "execute_result"
    }
   ],
   "source": [
    "new_mat_dataframe"
   ]
  },
  {
   "cell_type": "markdown",
   "id": "9578b635",
   "metadata": {},
   "source": [
    "# Problem 2: With This Problem, You Will Improve Your Simulation Skills and Test Your Understanding of Random Variables"
   ]
  },
  {
   "cell_type": "markdown",
   "id": "bb22520f",
   "metadata": {},
   "source": [
    "## (i) Develop a function that applies the fundamental theorem of simulation and simulates draws Categorical "
   ]
  },
  {
   "cell_type": "markdown",
   "id": "e3a9bf4d",
   "metadata": {},
   "source": [
    "### Summation Function Which Will be Used Inside the `categorical` Function"
   ]
  },
  {
   "cell_type": "code",
   "execution_count": 21,
   "id": "20d0ca3b",
   "metadata": {},
   "outputs": [],
   "source": [
    "def summation(values=None):\n",
    "    ssum = 0\n",
    "    summation = []\n",
    "    for i in range(len(values)):\n",
    "        ssum = ssum + values[i]\n",
    "        summation.append(ssum)\n",
    "    return summation"
   ]
  },
  {
   "cell_type": "code",
   "execution_count": 22,
   "id": "8a28488e",
   "metadata": {},
   "outputs": [],
   "source": [
    "def categorical(outcomes=[],probabilities=[]):\n",
    "    \n",
    "    C_sigmam = summation(probabilities) ##Starting by forming C_Sigma\n",
    "    u=np.random.uniform(0,1,1)    ##Generating u\n",
    "    for i in range(len(C_sigmam)):\n",
    "        print(i)\n",
    "        if(u < C_sigmam[i]): ##Finding lowest u such that u<C_m\n",
    "            s = outcomes[i]## Assigning outcome to s\n",
    "            break ## Breaking out of the for loop and returning s\n",
    "                \n",
    "        else:\n",
    "            continue\n",
    "    \n",
    "    \n",
    "    return s"
   ]
  },
  {
   "cell_type": "markdown",
   "id": "7c471b5f",
   "metadata": {},
   "source": [
    "## (ii)  Use Simulations to Verify That the Function you Developed in (i) Simulates Variables With the Correct Statistics\n",
    "\n",
    "To show the capabilities of the `categorical` function I decided to use a 6-sided dice as my example. I pass in 6 outcomes which were generated below, and I pass in six 1/6 probabilties."
   ]
  },
  {
   "cell_type": "markdown",
   "id": "c3966f1b",
   "metadata": {},
   "source": [
    "### Creating `out` Variable to Pass to the `outcomes` Argument Within the `categorical` Function"
   ]
  },
  {
   "cell_type": "code",
   "execution_count": null,
   "id": "2038165e",
   "metadata": {},
   "outputs": [],
   "source": [
    "out = random.sample(range(1, 7), 6)"
   ]
  },
  {
   "cell_type": "markdown",
   "id": "4e460042",
   "metadata": {},
   "source": [
    "### Creating `prob` Variable to Pass to the `probabilities` Argument Within the `categorical` Function"
   ]
  },
  {
   "cell_type": "code",
   "execution_count": null,
   "id": "ee2c00fe",
   "metadata": {},
   "outputs": [],
   "source": [
    "prob = []\n",
    "for i in range(len(out)):\n",
    "    prob.append(1/6)\n",
    "prob"
   ]
  },
  {
   "cell_type": "markdown",
   "id": "7e7b3eac",
   "metadata": {},
   "source": [
    "### Using a For Loop to Simulate 20,000 Runs"
   ]
  },
  {
   "cell_type": "code",
   "execution_count": null,
   "id": "7d901a65",
   "metadata": {},
   "outputs": [],
   "source": [
    "s_outcome = []\n",
    "for i in range(20000):\n",
    "    s_outcome.append(categorical(out,prob))"
   ]
  },
  {
   "cell_type": "code",
   "execution_count": null,
   "id": "520d30fe",
   "metadata": {},
   "outputs": [],
   "source": [
    "s = pd.DataFrame(s_outcome)"
   ]
  },
  {
   "cell_type": "markdown",
   "id": "c9685ade",
   "metadata": {},
   "source": [
    "### Creating Figure to Show Distribution of 20,000 Simulated Runs"
   ]
  },
  {
   "cell_type": "code",
   "execution_count": 40,
   "id": "41bbbe66",
   "metadata": {},
   "outputs": [
    {
     "data": {
      "image/png": "[encoded data removed]",
      "text/plain": [
       "<Figure size 1440x576 with 1 Axes>"
      ]
     },
     "metadata": {},
     "output_type": "display_data"
    }
   ],
   "source": [
    "sns.set(font_scale=1.4)\n",
    "fig, ax1 = plt.subplots(1,1,figsize=(20,8))\n",
    "ax1 = sns.histplot(data=s, x=0,ax=ax1,stat=\"probability\",bins=50)\n",
    "ax1.set_title('Histogram Distribution for 20,000 Simulated Runs with a 6-Sided Die Example')\n",
    "ax1.set_xlabel(\"Value Assigned for Each Dice Roll\")\n",
    "sns.set_style(\"darkgrid\")\n",
    "plt.savefig('hist_dist_dice_roll.png',bbox_inches=\"tight\")"
   ]
  },
  {
   "cell_type": "code",
   "execution_count": null,
   "id": "e2dd63aa",
   "metadata": {},
   "outputs": [],
   "source": []
  }
 ],
 "metadata": {
  "kernelspec": {
   "display_name": "Python 3",
   "language": "python",
   "name": "python3"
  },
  "language_info": {
   "codemirror_mode": {
    "name": "ipython",
    "version": 3
   },
   "file_extension": ".py",
   "mimetype": "text/x-python",
   "name": "python",
   "nbconvert_exporter": "python",
   "pygments_lexer": "ipython3",
   "version": "3.8.8"
  }
 },
 "nbformat": 4,
 "nbformat_minor": 5
}
