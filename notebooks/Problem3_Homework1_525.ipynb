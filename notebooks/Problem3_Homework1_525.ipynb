{
 "cells": [
  {
   "cell_type": "markdown",
   "id": "a001bca5",
   "metadata": {},
   "source": [
    "# This Jupyter Notebook Specifically Will Show the Code for Problem 3 of Homework 1"
   ]
  },
  {
   "cell_type": "code",
   "execution_count": 1,
   "id": "e357d547",
   "metadata": {},
   "outputs": [],
   "source": [
    "import scipy.io\n",
    "import pandas as pd\n",
    "import mat4py\n",
    "import matplotlib.pyplot as plt\n",
    "import numpy as np\n",
    "import seaborn as sns\n",
    "import math\n",
    "import random"
   ]
  },
  {
   "cell_type": "markdown",
   "id": "80be4ba2",
   "metadata": {},
   "source": [
    "# Loading in Data and Converting to Pandas DataFrame"
   ]
  },
  {
   "cell_type": "code",
   "execution_count": 2,
   "id": "ad7e5e65",
   "metadata": {},
   "outputs": [],
   "source": [
    "mat_array = mat4py.loadmat('/Users/trebu/Downloads/vis_data.mat')"
   ]
  },
  {
   "cell_type": "code",
   "execution_count": 3,
   "id": "4d2de6d9",
   "metadata": {},
   "outputs": [],
   "source": [
    "mat_dataframe = pd.DataFrame(mat_array)"
   ]
  },
  {
   "cell_type": "code",
   "execution_count": 4,
   "id": "60351362",
   "metadata": {},
   "outputs": [
    {
     "data": {
      "text/html": [
       "<div>\n",
       "<style scoped>\n",
       "    .dataframe tbody tr th:only-of-type {\n",
       "        vertical-align: middle;\n",
       "    }\n",
       "\n",
       "    .dataframe tbody tr th {\n",
       "        vertical-align: top;\n",
       "    }\n",
       "\n",
       "    .dataframe thead th {\n",
       "        text-align: right;\n",
       "    }\n",
       "</style>\n",
       "<table border=\"1\" class=\"dataframe\">\n",
       "  <thead>\n",
       "    <tr style=\"text-align: right;\">\n",
       "      <th></th>\n",
       "      <th>W</th>\n",
       "    </tr>\n",
       "  </thead>\n",
       "  <tbody>\n",
       "    <tr>\n",
       "      <th>0</th>\n",
       "      <td>[0.063072899261157, 0.09561849433129076, 0.126...</td>\n",
       "    </tr>\n",
       "    <tr>\n",
       "      <th>1</th>\n",
       "      <td>[0.5418410089232286, -0.05661396345396874, 0.0...</td>\n",
       "    </tr>\n",
       "    <tr>\n",
       "      <th>2</th>\n",
       "      <td>[0.9577197116363646, 1.2987560774209057, 1.342...</td>\n",
       "    </tr>\n",
       "    <tr>\n",
       "      <th>3</th>\n",
       "      <td>[-0.29945018584613553, 0.4505579792830716, 0.8...</td>\n",
       "    </tr>\n",
       "    <tr>\n",
       "      <th>4</th>\n",
       "      <td>[-0.046393278991246956, 0.019225775228446984, ...</td>\n",
       "    </tr>\n",
       "    <tr>\n",
       "      <th>...</th>\n",
       "      <td>...</td>\n",
       "    </tr>\n",
       "    <tr>\n",
       "      <th>533</th>\n",
       "      <td>[0.6657944213665705, 0.6711047226810104, 0.516...</td>\n",
       "    </tr>\n",
       "    <tr>\n",
       "      <th>534</th>\n",
       "      <td>[0.617734153974393, 0.4444045865757713, 0.4208...</td>\n",
       "    </tr>\n",
       "    <tr>\n",
       "      <th>535</th>\n",
       "      <td>[-0.2904368973431904, 0.5975676827371156, 0.97...</td>\n",
       "    </tr>\n",
       "    <tr>\n",
       "      <th>536</th>\n",
       "      <td>[-0.05203732989309018, 0.28845052434953444, 0....</td>\n",
       "    </tr>\n",
       "    <tr>\n",
       "      <th>537</th>\n",
       "      <td>[-0.25956348805605, 0.3351796699607703, 0.8353...</td>\n",
       "    </tr>\n",
       "  </tbody>\n",
       "</table>\n",
       "<p>538 rows × 1 columns</p>\n",
       "</div>"
      ],
      "text/plain": [
       "                                                     W\n",
       "0    [0.063072899261157, 0.09561849433129076, 0.126...\n",
       "1    [0.5418410089232286, -0.05661396345396874, 0.0...\n",
       "2    [0.9577197116363646, 1.2987560774209057, 1.342...\n",
       "3    [-0.29945018584613553, 0.4505579792830716, 0.8...\n",
       "4    [-0.046393278991246956, 0.019225775228446984, ...\n",
       "..                                                 ...\n",
       "533  [0.6657944213665705, 0.6711047226810104, 0.516...\n",
       "534  [0.617734153974393, 0.4444045865757713, 0.4208...\n",
       "535  [-0.2904368973431904, 0.5975676827371156, 0.97...\n",
       "536  [-0.05203732989309018, 0.28845052434953444, 0....\n",
       "537  [-0.25956348805605, 0.3351796699607703, 0.8353...\n",
       "\n",
       "[538 rows x 1 columns]"
      ]
     },
     "execution_count": 4,
     "metadata": {},
     "output_type": "execute_result"
    }
   ],
   "source": [
    "mat_dataframe"
   ]
  },
  {
   "cell_type": "code",
   "execution_count": 5,
   "id": "24a156e0",
   "metadata": {},
   "outputs": [],
   "source": [
    "w1 = []\n",
    "w2 = []\n",
    "w3 = []\n",
    "for i in range(0,len(mat_dataframe)):\n",
    "    list_values = mat_dataframe[\"W\"][i]\n",
    "    w1.append(list_values[0])\n",
    "    w2.append(list_values[1])\n",
    "    w3.append(list_values[2])\n",
    "new_mat_dataframe = pd.DataFrame()\n",
    "new_mat_dataframe[\"w1\"] = w1\n",
    "new_mat_dataframe[\"w2\"] = w2\n",
    "new_mat_dataframe[\"w3\"] = w3"
   ]
  },
  {
   "cell_type": "code",
   "execution_count": 6,
   "id": "ac9580e8",
   "metadata": {},
   "outputs": [
    {
     "data": {
      "text/html": [
       "<div>\n",
       "<style scoped>\n",
       "    .dataframe tbody tr th:only-of-type {\n",
       "        vertical-align: middle;\n",
       "    }\n",
       "\n",
       "    .dataframe tbody tr th {\n",
       "        vertical-align: top;\n",
       "    }\n",
       "\n",
       "    .dataframe thead th {\n",
       "        text-align: right;\n",
       "    }\n",
       "</style>\n",
       "<table border=\"1\" class=\"dataframe\">\n",
       "  <thead>\n",
       "    <tr style=\"text-align: right;\">\n",
       "      <th></th>\n",
       "      <th>w1</th>\n",
       "      <th>w2</th>\n",
       "      <th>w3</th>\n",
       "    </tr>\n",
       "  </thead>\n",
       "  <tbody>\n",
       "    <tr>\n",
       "      <th>0</th>\n",
       "      <td>0.063073</td>\n",
       "      <td>0.095618</td>\n",
       "      <td>0.126411</td>\n",
       "    </tr>\n",
       "    <tr>\n",
       "      <th>1</th>\n",
       "      <td>0.541841</td>\n",
       "      <td>-0.056614</td>\n",
       "      <td>0.067160</td>\n",
       "    </tr>\n",
       "    <tr>\n",
       "      <th>2</th>\n",
       "      <td>0.957720</td>\n",
       "      <td>1.298756</td>\n",
       "      <td>1.342079</td>\n",
       "    </tr>\n",
       "    <tr>\n",
       "      <th>3</th>\n",
       "      <td>-0.299450</td>\n",
       "      <td>0.450558</td>\n",
       "      <td>0.808990</td>\n",
       "    </tr>\n",
       "    <tr>\n",
       "      <th>4</th>\n",
       "      <td>-0.046393</td>\n",
       "      <td>0.019226</td>\n",
       "      <td>0.869677</td>\n",
       "    </tr>\n",
       "    <tr>\n",
       "      <th>...</th>\n",
       "      <td>...</td>\n",
       "      <td>...</td>\n",
       "      <td>...</td>\n",
       "    </tr>\n",
       "    <tr>\n",
       "      <th>533</th>\n",
       "      <td>0.665794</td>\n",
       "      <td>0.671105</td>\n",
       "      <td>0.516802</td>\n",
       "    </tr>\n",
       "    <tr>\n",
       "      <th>534</th>\n",
       "      <td>0.617734</td>\n",
       "      <td>0.444405</td>\n",
       "      <td>0.420828</td>\n",
       "    </tr>\n",
       "    <tr>\n",
       "      <th>535</th>\n",
       "      <td>-0.290437</td>\n",
       "      <td>0.597568</td>\n",
       "      <td>0.970739</td>\n",
       "    </tr>\n",
       "    <tr>\n",
       "      <th>536</th>\n",
       "      <td>-0.052037</td>\n",
       "      <td>0.288451</td>\n",
       "      <td>0.041013</td>\n",
       "    </tr>\n",
       "    <tr>\n",
       "      <th>537</th>\n",
       "      <td>-0.259563</td>\n",
       "      <td>0.335180</td>\n",
       "      <td>0.835326</td>\n",
       "    </tr>\n",
       "  </tbody>\n",
       "</table>\n",
       "<p>538 rows × 3 columns</p>\n",
       "</div>"
      ],
      "text/plain": [
       "           w1        w2        w3\n",
       "0    0.063073  0.095618  0.126411\n",
       "1    0.541841 -0.056614  0.067160\n",
       "2    0.957720  1.298756  1.342079\n",
       "3   -0.299450  0.450558  0.808990\n",
       "4   -0.046393  0.019226  0.869677\n",
       "..        ...       ...       ...\n",
       "533  0.665794  0.671105  0.516802\n",
       "534  0.617734  0.444405  0.420828\n",
       "535 -0.290437  0.597568  0.970739\n",
       "536 -0.052037  0.288451  0.041013\n",
       "537 -0.259563  0.335180  0.835326\n",
       "\n",
       "[538 rows x 3 columns]"
      ]
     },
     "execution_count": 6,
     "metadata": {},
     "output_type": "execute_result"
    }
   ],
   "source": [
    "new_mat_dataframe"
   ]
  },
  {
   "cell_type": "markdown",
   "id": "3ca924c8",
   "metadata": {},
   "source": [
    "# Problem 3: In This Problem, You Will Investigate the Box-Muller Algorithm."
   ]
  },
  {
   "cell_type": "markdown",
   "id": "777f1973",
   "metadata": {},
   "source": [
    "## (i) Show Mathematically That the Box-Muller Algorithm Indeed Produces Values With the Correct Statistics.\n",
    "\n",
    "Section (i) of problem 3 will be shown within the google doc, it does not require any code."
   ]
  },
  {
   "cell_type": "markdown",
   "id": "fe1bce5b",
   "metadata": {},
   "source": [
    "## (ii) Develop a Function That Takes Input μ,σ and Implements the Box-Muller Algorithm"
   ]
  },
  {
   "cell_type": "code",
   "execution_count": 7,
   "id": "7434d62a",
   "metadata": {},
   "outputs": [],
   "source": [
    "def box_muller(mu = None, sigma = None):\n",
    "    u,v = (np.random.uniform(0,1,1000), np.random.uniform(0,1,1000))\n",
    "    \n",
    "    x_append = []\n",
    "    y_append = []\n",
    "    for i in range(0,len(u)):\n",
    "        x = mu + sigma * math.sqrt(-2*math.log(u[i]))*(math.cos(2*math.pi*v[i]))\n",
    "        y = mu + sigma * math.sqrt(-2*math.log(u[i]))*(math.sin(2*math.pi*v[i]))\n",
    "       \n",
    "        y_append.append(y)\n",
    "        x_append.append(x)\n",
    "    return x_append,y_append"
   ]
  },
  {
   "cell_type": "code",
   "execution_count": 8,
   "id": "85d3b03d",
   "metadata": {},
   "outputs": [],
   "source": [
    "x_mueller,y_mueller = box_muller(mu=20,sigma=40)"
   ]
  },
  {
   "cell_type": "code",
   "execution_count": 9,
   "id": "0770c717",
   "metadata": {},
   "outputs": [],
   "source": [
    "random_normal = np.random.normal(0,1,1000)"
   ]
  },
  {
   "cell_type": "code",
   "execution_count": 10,
   "id": "32c4d411",
   "metadata": {},
   "outputs": [],
   "source": [
    "box_dataframe = pd.DataFrame()\n",
    "pd.concat([pd.Series(x_mueller),pd.Series(random_normal)],ignore_index=True)\n",
    "box_dataframe[\"Box_Mueller_X\"] = x_mueller\n",
    "box_dataframe[\"Box_Mueller_Y\"] = y_mueller\n",
    "box_dataframe[\"Random_Normal\"] = random_normal\n",
    "#box_dataframe[\"Values\"] = pd.concat([pd.Series(x_mueller),pd.Series(random_normal)])"
   ]
  },
  {
   "cell_type": "code",
   "execution_count": 11,
   "id": "4811f66d",
   "metadata": {},
   "outputs": [
    {
     "data": {
      "text/html": [
       "<div>\n",
       "<style scoped>\n",
       "    .dataframe tbody tr th:only-of-type {\n",
       "        vertical-align: middle;\n",
       "    }\n",
       "\n",
       "    .dataframe tbody tr th {\n",
       "        vertical-align: top;\n",
       "    }\n",
       "\n",
       "    .dataframe thead th {\n",
       "        text-align: right;\n",
       "    }\n",
       "</style>\n",
       "<table border=\"1\" class=\"dataframe\">\n",
       "  <thead>\n",
       "    <tr style=\"text-align: right;\">\n",
       "      <th></th>\n",
       "      <th>Box_Mueller_X</th>\n",
       "      <th>Box_Mueller_Y</th>\n",
       "      <th>Random_Normal</th>\n",
       "    </tr>\n",
       "  </thead>\n",
       "  <tbody>\n",
       "    <tr>\n",
       "      <th>0</th>\n",
       "      <td>16.971669</td>\n",
       "      <td>89.114836</td>\n",
       "      <td>0.277681</td>\n",
       "    </tr>\n",
       "    <tr>\n",
       "      <th>1</th>\n",
       "      <td>11.807635</td>\n",
       "      <td>-17.429960</td>\n",
       "      <td>-0.373042</td>\n",
       "    </tr>\n",
       "    <tr>\n",
       "      <th>2</th>\n",
       "      <td>63.939284</td>\n",
       "      <td>26.984217</td>\n",
       "      <td>0.169144</td>\n",
       "    </tr>\n",
       "    <tr>\n",
       "      <th>3</th>\n",
       "      <td>101.244245</td>\n",
       "      <td>-14.606851</td>\n",
       "      <td>0.177854</td>\n",
       "    </tr>\n",
       "    <tr>\n",
       "      <th>4</th>\n",
       "      <td>55.586459</td>\n",
       "      <td>-6.116045</td>\n",
       "      <td>0.208038</td>\n",
       "    </tr>\n",
       "    <tr>\n",
       "      <th>...</th>\n",
       "      <td>...</td>\n",
       "      <td>...</td>\n",
       "      <td>...</td>\n",
       "    </tr>\n",
       "    <tr>\n",
       "      <th>995</th>\n",
       "      <td>-32.147144</td>\n",
       "      <td>5.994677</td>\n",
       "      <td>0.570279</td>\n",
       "    </tr>\n",
       "    <tr>\n",
       "      <th>996</th>\n",
       "      <td>-7.860192</td>\n",
       "      <td>108.595911</td>\n",
       "      <td>1.339711</td>\n",
       "    </tr>\n",
       "    <tr>\n",
       "      <th>997</th>\n",
       "      <td>-41.902659</td>\n",
       "      <td>33.476900</td>\n",
       "      <td>-0.694045</td>\n",
       "    </tr>\n",
       "    <tr>\n",
       "      <th>998</th>\n",
       "      <td>-0.301615</td>\n",
       "      <td>62.847522</td>\n",
       "      <td>1.929600</td>\n",
       "    </tr>\n",
       "    <tr>\n",
       "      <th>999</th>\n",
       "      <td>36.397112</td>\n",
       "      <td>39.108512</td>\n",
       "      <td>0.224667</td>\n",
       "    </tr>\n",
       "  </tbody>\n",
       "</table>\n",
       "<p>1000 rows × 3 columns</p>\n",
       "</div>"
      ],
      "text/plain": [
       "     Box_Mueller_X  Box_Mueller_Y  Random_Normal\n",
       "0        16.971669      89.114836       0.277681\n",
       "1        11.807635     -17.429960      -0.373042\n",
       "2        63.939284      26.984217       0.169144\n",
       "3       101.244245     -14.606851       0.177854\n",
       "4        55.586459      -6.116045       0.208038\n",
       "..             ...            ...            ...\n",
       "995     -32.147144       5.994677       0.570279\n",
       "996      -7.860192     108.595911       1.339711\n",
       "997     -41.902659      33.476900      -0.694045\n",
       "998      -0.301615      62.847522       1.929600\n",
       "999      36.397112      39.108512       0.224667\n",
       "\n",
       "[1000 rows x 3 columns]"
      ]
     },
     "execution_count": 11,
     "metadata": {},
     "output_type": "execute_result"
    }
   ],
   "source": [
    "box_dataframe"
   ]
  },
  {
   "cell_type": "code",
   "execution_count": 12,
   "id": "49109b4a",
   "metadata": {},
   "outputs": [
    {
     "data": {
      "text/plain": [
       "Text(0.5, 1.0, 'Probability Density Plot of Box Mueller Algorithm')"
      ]
     },
     "execution_count": 12,
     "metadata": {},
     "output_type": "execute_result"
    },
    {
     "data": {
      "image/png": "[encoded data removed]",
      "text/plain": [
       "<Figure size 1440x576 with 1 Axes>"
      ]
     },
     "metadata": {
      "needs_background": "light"
     },
     "output_type": "display_data"
    }
   ],
   "source": [
    "fig, ax1 = plt.subplots(1,1,figsize=(20,8))\n",
    "ax1 = sns.histplot(data=box_dataframe, x='Box_Mueller_X',ax=ax1,stat=\"density\",kde=True)\n",
    "ax1.set_xlabel(\"Values of X-Random Variable for Box Mueller Algorithm\")\n",
    "ax1.set_title('Probability Density Plot of Box Mueller Algorithm')\n",
    "#sns.histplot(data=box_dataframe,x=\"Random_Normal\",ax=ax2,stat=\"density\")"
   ]
  },
  {
   "cell_type": "code",
   "execution_count": 13,
   "id": "180ded5c",
   "metadata": {},
   "outputs": [
    {
     "data": {
      "text/plain": [
       "Text(0.5, 1.0, 'Probability Density Plot of Box Mueller Algorithm')"
      ]
     },
     "execution_count": 13,
     "metadata": {},
     "output_type": "execute_result"
    },
    {
     "data": {
      "image/png": "[encoded data removed]",
      "text/plain": [
       "<Figure size 1440x576 with 1 Axes>"
      ]
     },
     "metadata": {
      "needs_background": "light"
     },
     "output_type": "display_data"
    }
   ],
   "source": [
    "fig, ax1 = plt.subplots(1,1,figsize=(20,8))\n",
    "ax1 = sns.histplot(data=box_dataframe, x='Box_Mueller_Y',ax=ax1,stat=\"density\",kde=True,bins=50)\n",
    "ax1.set_xlabel(\"Values of Y-Random Variable for Box Mueller Algorithm\")\n",
    "ax1.set_title('Probability Density Plot of Box Mueller Algorithm')"
   ]
  }
 ],
 "metadata": {
  "kernelspec": {
   "display_name": "Python 3",
   "language": "python",
   "name": "python3"
  },
  "language_info": {
   "codemirror_mode": {
    "name": "ipython",
    "version": 3
   },
   "file_extension": ".py",
   "mimetype": "text/x-python",
   "name": "python",
   "nbconvert_exporter": "python",
   "pygments_lexer": "ipython3",
   "version": "3.8.8"
  }
 },
 "nbformat": 4,
 "nbformat_minor": 5
}
